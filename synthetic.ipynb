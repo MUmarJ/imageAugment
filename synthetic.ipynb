{
 "cells": [
  {
   "cell_type": "code",
   "execution_count": null,
   "metadata": {},
   "outputs": [],
   "source": [
    "import matplotlib.patches as patches\n",
    "import matplotlib.pyplot as plt\n",
    "from pathlib import Path\n",
    "import pandas as pd\n",
    "import seaborn as sns\n",
    "DIR_OUTPUT = Path('./testOutput')"
   ]
  },
  {
   "cell_type": "code",
   "execution_count": null,
   "metadata": {},
   "outputs": [],
   "source": [
    "dir_contents = Path.glob(DIR_OUTPUT, '*.txt')\n",
    "for dc in dir_contents:\n",
    "    print(dc.parts[-1])"
   ]
  },
  {
   "cell_type": "code",
   "execution_count": null,
   "metadata": {},
   "outputs": [],
   "source": [
    "def parse_synthetic_txt(path):\n",
    "    '''\n",
    "    Parses text files generated from synthetic data pipeline that found in the given directory\n",
    "    \n",
    "    Structure of text file:\n",
    "        - each row corresponds to a tool in the object\n",
    "        - values in row are space separated\n",
    "        - first entry in row is the class label\n",
    "        - rest of entries are bounding box coordinates in COCO format (x, y, w, h)\n",
    "    - empty file represent background image\n",
    "\n",
    "    Input:\n",
    "        - path (Path object): directory where text files are found\n",
    "\n",
    "    Output \n",
    "        - data_dict (dict): bounding box coordinates and labels for each image\n",
    "            - Key: file_name of image w/o extension\n",
    "                - sub-dictionary with Keys:\n",
    "                - labels\n",
    "                - bbox\n",
    "        - unique_labels (set): unique set of labels found in directory\n",
    "    '''\n",
    "    data_dict = dict()\n",
    "    unique_labels = set()\n",
    "    dir_contents = Path.glob(path, '*.txt')\n",
    "    for dc in dir_contents:\n",
    "        meta_fn = dc.parts[-1]\n",
    "\n",
    "        with open(Path.joinpath(path, meta_fn), 'r') as f:\n",
    "            # note empty will not get processed\n",
    "            for line in f:\n",
    "                meta_tool = line.rstrip().split(' ')\n",
    "                label = meta_tool[0]\n",
    "                bbox = tuple([int(num) for num in meta_tool[1:]])\n",
    "            \n",
    "                try:\n",
    "                    data_dict[meta_fn[:-4]]['labels'].append(label)\n",
    "                    data_dict[meta_fn[:-4]]['bbox'].append(bbox)\n",
    "                except KeyError:\n",
    "                    data_dict[meta_fn[:-4]] = {'labels': [label],\n",
    "                                            'bbox': [bbox]\n",
    "                                            }\n",
    "                unique_labels.add(label)\n",
    "\n",
    "    return data_dict, list(unique_labels)\n",
    "\n",
    "data_dict, unique_labels = parse_synthetic_txt(DIR_OUTPUT)\n",
    "print(data_dict)\n",
    "print(unique_labels)"
   ]
  },
  {
   "cell_type": "code",
   "execution_count": null,
   "metadata": {},
   "outputs": [],
   "source": [
    "def synthetic_labels2ints(data, unique_labels):\n",
    "    '''\n",
    "    YOLO model requires class labels to be integers, so convert the unique set of labels to integer classes\n",
    "\n",
    "    Input:\n",
    "        - data (dict): bounding box coordinates and labels for each image\n",
    "            - Key: file_name of image w/o extension\n",
    "                - sub-dictionary with Keys:\n",
    "                - labels\n",
    "                - bbox\n",
    "        - unique_labels (set): unique set of labels found in directory\n",
    "        \n",
    "    Output: \n",
    "        - (dict): bounding box coordinates and labels as integers for each image\n",
    "            - Key: file_name of image w/o extension\n",
    "                - sub-dictionary with Keys:\n",
    "                - labels\n",
    "                - bbox\n",
    "    '''\n",
    "    data_dict = dict()\n",
    "\n",
    "    # create correspondence between label and integers\n",
    "    label_int_dict = {label:i for i, label in enumerate(unique_labels)}\n",
    "\n",
    "    # replace labels with correpsponding integer\n",
    "    for key, value in data.items():\n",
    "        labels = value['labels']\n",
    "        labels_ints = [label_int_dict[lab] for lab in labels]\n",
    "\n",
    "        data_dict[key] = {'labels': tuple(labels_ints),\n",
    "                            'bbox': tuple(value['bbox'])\n",
    "                            }\n",
    "    return data_dict\n",
    "\n",
    "\n",
    "data_dict2 = synthetic_labels2ints(data_dict, unique_labels)\n",
    "print(data_dict2)\n",
    "print(unique_labels)"
   ]
  },
  {
   "cell_type": "markdown",
   "metadata": {},
   "source": [
    "# Explore Distribution of Bounding Boxes"
   ]
  },
  {
   "cell_type": "code",
   "execution_count": null,
   "metadata": {},
   "outputs": [],
   "source": [
    "# https://stackoverflow.com/questions/10715965/create-a-pandas-dataframe-by-appending-one-row-at-a-time\n",
    "### convert Data Dict into Dataframe ###\n",
    "rows_list = []\n",
    "for k, v in data_dict.items():\n",
    "        labels = v['labels']\n",
    "        boxes = v['bbox']\n",
    "        for i, box in enumerate(boxes):\n",
    "                # key = col_name\n",
    "                x, y, w, h = box[0], box[1], box[2], box[3]\n",
    "                temp_dict = {'image': k,\n",
    "                                'label': labels[i],\n",
    "                                'x': x,\n",
    "                                'y': y,\n",
    "                                'width': w,\n",
    "                                'height': h\n",
    "                                }\n",
    "                rows_list.append(temp_dict)\n",
    "df = pd.DataFrame(rows_list)  "
   ]
  },
  {
   "cell_type": "code",
   "execution_count": null,
   "metadata": {},
   "outputs": [],
   "source": [
    "df"
   ]
  },
  {
   "cell_type": "markdown",
   "metadata": {},
   "source": [
    "#### Number of Labels"
   ]
  },
  {
   "cell_type": "code",
   "execution_count": null,
   "metadata": {},
   "outputs": [],
   "source": [
    "### Number of Labels ###\n",
    "count_labels = df.groupby('label')['image'].count()\n",
    "count_labels"
   ]
  },
  {
   "cell_type": "code",
   "execution_count": null,
   "metadata": {},
   "outputs": [],
   "source": [
    "fig, ax = plt.subplots(figsize=(12, 8))\n",
    "ax = sns.barplot(x=count_labels.index, y=count_labels.values, ax=ax)\n",
    "ax.set_title('Total Labels in Run')\n",
    "ax.set_xlabel('Label')\n",
    "ax.set_ylabel('Total')\n",
    "for i, val in enumerate(count_labels.values):\n",
    "    ax.text(i, val+1, val, color='black', ha=\"center\")"
   ]
  },
  {
   "cell_type": "markdown",
   "metadata": {},
   "source": [
    "#### Number of Labels per Tray"
   ]
  },
  {
   "cell_type": "code",
   "execution_count": null,
   "metadata": {},
   "outputs": [],
   "source": [
    "num_labs_tray = df.groupby('image').count().set_index('label').groupby('label').count()['x']\n",
    "num_labs_tray"
   ]
  },
  {
   "cell_type": "code",
   "execution_count": null,
   "metadata": {},
   "outputs": [],
   "source": [
    "fig, ax = plt.subplots(figsize=(12, 8))\n",
    "ax = sns.barplot(x=num_labs_tray.index, y=num_labs_tray.values, ax=ax)\n",
    "ax.set_title('Count of Number of Trays by Number of Labels')\n",
    "ax.set_xlabel('Total Labels per Tray')\n",
    "ax.set_ylabel('Number of Trays')\n",
    "for i, val in enumerate(num_labs_tray.values):\n",
    "    ax.text(i, val+0.5, val, color='black', ha=\"center\")"
   ]
  },
  {
   "cell_type": "code",
   "execution_count": null,
   "metadata": {},
   "outputs": [],
   "source": [
    "### more straight forward way to get at counts then converting to dataframe ###\n",
    "from collections import Counter\n",
    "count_labels = list()\n",
    "num_labs_tray = list()\n",
    "total_combinations = list()\n",
    "for k, v in data_dict2.items():\n",
    "        labels = list(v['labels'])\n",
    "        boxes = v['bbox']\n",
    "        labels.sort()\n",
    "        count_labels.extend(labels)\n",
    "        num_labs_tray.append(len(labels))\n",
    "        total_combinations.append('-'.join([str(i) for i in labels]))\n",
    "count_labels = Counter(count_labels)\n",
    "num_labs_tray = Counter(num_labs_tray)\n",
    "total_combinations = Counter(total_combinations)\n",
    "\n",
    "# replace integer key with label\n",
    "\n",
    "count_labels = dict((unique_labels[key], value) for (key, value) in count_labels.items())\n",
    "print(count_labels)\n",
    "print(num_labs_tray)\n",
    "print(total_combinations)\n"
   ]
  },
  {
   "cell_type": "markdown",
   "metadata": {},
   "source": [
    "#### Total Combinations"
   ]
  },
  {
   "cell_type": "code",
   "execution_count": null,
   "metadata": {},
   "outputs": [],
   "source": [
    "total_combinations_df = pd.Series(total_combinations).sort_index()\n",
    "fig, ax = plt.subplots(figsize=(12, 8))\n",
    "ax = sns.barplot(total_combinations_df.index, total_combinations_df.values, palette='deep', ax=ax)\n",
    "ax.set_title('Count of Combinations of Labels')\n",
    "ax.set_xlabel('Combinations')\n",
    "ax.set_ylabel('Number of Labels')\n",
    "for tick in ax.get_xticklabels():\n",
    "    tick.set_rotation(90)\n",
    "# for i, val in enumerate(total_combinations_df.values):\n",
    "#     ax.text(i, val, val, color='black', ha=\"center\")"
   ]
  },
  {
   "cell_type": "code",
   "execution_count": null,
   "metadata": {},
   "outputs": [],
   "source": [
    "palette = sns.color_palette(\"icefire\", len(unique_labels))\n",
    "palette"
   ]
  },
  {
   "cell_type": "code",
   "execution_count": null,
   "metadata": {},
   "outputs": [],
   "source": [
    "color_dict = dict()\n",
    "for i, lab in enumerate(unique_labels):\n",
    "    color_dict[lab] = palette[i]\n",
    "color_dict"
   ]
  },
  {
   "cell_type": "markdown",
   "metadata": {},
   "source": [
    "#### Distribution of Bounding Boxes on Trays"
   ]
  },
  {
   "cell_type": "code",
   "execution_count": null,
   "metadata": {},
   "outputs": [],
   "source": [
    "from PIL import Image\n",
    "empty_tray = Image.open('emptyTrays/RelineCore1LevelB_crop.jpeg')\n",
    "\n",
    "fig, ax = plt.subplots()\n",
    "fig.set_figwidth(8)\n",
    "fig.set_figheight(24)\n",
    "ax.get_xaxis().set_visible(False)\n",
    "ax.get_yaxis().set_visible(False)\n",
    "ax.set_title('Distribution of Bounding Boxes on Tray')\n",
    "\n",
    "plt.imshow(empty_tray, alpha=0.25)\n",
    "\n",
    "for k, v in data_dict.items():\n",
    "    labels = v['labels']\n",
    "    boxes = v['bbox']\n",
    "    for i, box in enumerate(boxes):\n",
    "        x, y, w, h = box\n",
    "        rect = patches.Rectangle((x, y), w, h, linewidth=1, edgecolor=color_dict[labels[i]], facecolor='none', alpha=0.5)\n",
    "        ax.add_patch(rect) \n"
   ]
  }
 ],
 "metadata": {
  "interpreter": {
   "hash": "4c90bf4ad16b6f3f84917221dc81916f648fc865cea23b6dc86e07009f8b207c"
  },
  "kernelspec": {
   "display_name": "Python 3.8.12 64-bit ('image-pipeline': conda)",
   "language": "python",
   "name": "python3"
  },
  "language_info": {
   "codemirror_mode": {
    "name": "ipython",
    "version": 3
   },
   "file_extension": ".py",
   "mimetype": "text/x-python",
   "name": "python",
   "nbconvert_exporter": "python",
   "pygments_lexer": "ipython3",
   "version": "3.8.12"
  },
  "orig_nbformat": 4
 },
 "nbformat": 4,
 "nbformat_minor": 2
}
