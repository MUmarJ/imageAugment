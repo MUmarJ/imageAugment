{
 "cells": [
  {
   "cell_type": "code",
   "execution_count": null,
   "metadata": {},
   "outputs": [],
   "source": [
    "from pathlib import Path\n",
    "DIR_OUTPUT = Path('./testOutput')"
   ]
  },
  {
   "cell_type": "code",
   "execution_count": null,
   "metadata": {},
   "outputs": [],
   "source": [
    "dir_contents = Path.glob(DIR_OUTPUT, '*.txt')\n",
    "for dc in dir_contents:\n",
    "    print(dc.parts[-1])"
   ]
  },
  {
   "cell_type": "code",
   "execution_count": null,
   "metadata": {},
   "outputs": [],
   "source": [
    "def parse_synthetic_txt(path):\n",
    "    '''\n",
    "    Parses text files generated from synthetic data pipeline that found in the given directory\n",
    "    \n",
    "    Structure of text file:\n",
    "        - each row corresponds to a tool in the object\n",
    "        - values in row are space separated\n",
    "        - first entry in row is the class label\n",
    "        - rest of entries are bounding box coordinates in COCO format (x, y, w, h)\n",
    "    Input:\n",
    "        - path (Path object): directory where text files are found\n",
    "    Output \n",
    "        - data_dict (dict): bounding box coordinates and labels for each image\n",
    "            - Key: file_name of image w/o extension\n",
    "                - sub-dictionary with Keys:\n",
    "                - labels\n",
    "                - bbox\n",
    "            - unique_labels (set): unique set of labels found in directory\n",
    "    '''\n",
    "    data_dict = dict()\n",
    "    unique_labels = set()\n",
    "    dir_contents = Path.glob(path, '*.txt')\n",
    "    for dc in dir_contents:\n",
    "        meta_fn = dc.parts[-1]\n",
    "\n",
    "        with open(Path.joinpath(path, meta_fn), 'r') as f:\n",
    "            for line in f:\n",
    "                meta_tool = line.rstrip().split(' ')\n",
    "                label = meta_tool[0]\n",
    "                bbox = tuple([int(num) for num in meta_tool[1:]])\n",
    "            \n",
    "                try:\n",
    "                    data_dict[meta_fn[:-4]]['labels'].append(label)\n",
    "                    data_dict[meta_fn[:-4]]['bbox'].append(bbox)\n",
    "                except KeyError:\n",
    "                    data_dict[meta_fn[:-4]] = {'labels': [label],\n",
    "                                            'bbox': [bbox]\n",
    "                                            }\n",
    "                unique_labels.add(label)\n",
    "\n",
    "    return data_dict, unique_labels\n",
    "\n",
    "data_dict, unique_labels = parse_synthetic_txt(DIR_OUTPUT)\n",
    "print(data_dict)\n",
    "print(unique_labels)"
   ]
  },
  {
   "cell_type": "code",
   "execution_count": null,
   "metadata": {},
   "outputs": [],
   "source": [
    "def synthetic_labels2ints(data, unique_labels):\n",
    "    '''\n",
    "    YOLO model requires class labels to be integers, so convert the unique set of labels to integer classes\n",
    "\n",
    "    Input:\n",
    "        - data (dict): bounding box coordinates and labels for each image\n",
    "            - Key: file_name of image w/o extension\n",
    "                - sub-dictionary with Keys:\n",
    "                - labels\n",
    "                - bbox\n",
    "        - unique_labels (set): unique set of labels found in directory\n",
    "        \n",
    "    Output: \n",
    "        - (dict): bounding box coordinates and labels as integers for each image\n",
    "            - Key: file_name of image w/o extension\n",
    "                - sub-dictionary with Keys:\n",
    "                - labels\n",
    "                - bbox\n",
    "    '''\n",
    "    data_dict = dict()\n",
    "    unique_labels = list(unique_labels)\n",
    "    # print(unique_labels)\n",
    "    for key, value in data.items():\n",
    "        # print(value['labels'])\n",
    "        labels_ints = value['labels']\n",
    "        for i, label in enumerate(unique_labels):\n",
    "            labels_ints = list(map(lambda x: i if x == label else x, labels_ints))\n",
    "        # print(labels_ints)\n",
    "\n",
    "        data_dict[key] = {'labels': tuple(labels_ints),\n",
    "                            'bbox': tuple(value['bbox'])\n",
    "                            }\n",
    "    return data_dict\n",
    "\n",
    "data_dict2 = synthetic_labels2ints(data_dict, unique_labels)\n",
    "print(data_dict2)\n",
    "print(unique_labels)"
   ]
  }
 ],
 "metadata": {
  "interpreter": {
   "hash": "4c90bf4ad16b6f3f84917221dc81916f648fc865cea23b6dc86e07009f8b207c"
  },
  "kernelspec": {
   "display_name": "Python 3.8.12 64-bit ('image-pipeline': conda)",
   "language": "python",
   "name": "python3"
  },
  "language_info": {
   "codemirror_mode": {
    "name": "ipython",
    "version": 3
   },
   "file_extension": ".py",
   "mimetype": "text/x-python",
   "name": "python",
   "nbconvert_exporter": "python",
   "pygments_lexer": "ipython3",
   "version": "3.8.12"
  },
  "orig_nbformat": 4
 },
 "nbformat": 4,
 "nbformat_minor": 2
}
